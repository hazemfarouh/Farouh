{
 "cells": [
  {
   "cell_type": "markdown",
   "metadata": {},
   "source": [
    "# Assignment 3"
   ]
  },
  {
   "cell_type": "markdown",
   "metadata": {},
   "source": [
    "### Write a function to count the number 4 in a given list."
   ]
  },
  {
   "cell_type": "code",
   "execution_count": 1,
   "metadata": {},
   "outputs": [
    {
     "name": "stdout",
     "output_type": "stream",
     "text": [
      "number 4 is reapeted 3 times\n"
     ]
    }
   ],
   "source": [
    "def c_4(l1):\n",
    "    l2=[]\n",
    "    for x in range (0,len(l1)):\n",
    "        if l1[x]==4:\n",
    "            l2.append(l1[x])\n",
    "    print(\"number 4 is reapeted\",len(l2),\"times\") \n",
    "l1=[1,2,3,4,5,4,6,7,9,4]\n",
    "c_4(l1)"
   ]
  },
  {
   "cell_type": "markdown",
   "metadata": {},
   "source": [
    "### write a  function to check whether a number is divisible by another number."
   ]
  },
  {
   "cell_type": "code",
   "execution_count": 2,
   "metadata": {},
   "outputs": [
    {
     "name": "stdout",
     "output_type": "stream",
     "text": [
      "5 divisible by 1\n"
     ]
    }
   ],
   "source": [
    "def div_(x,y):\n",
    "    if x>y:\n",
    "        if x%y==0:\n",
    "            print (\"{} divisible by {}\".format(x,y))\n",
    "        else:\n",
    "            print (\"{} is not divisible by {}\".format(x,y))\n",
    "    else :\n",
    "        if y%x==0:\n",
    "            print (\"{} divisible by {}\".format(y,x))\n",
    "        else:\n",
    "            print (\"{} is not divisible by {}\".format(y,x))\n",
    "div_(1,5)"
   ]
  },
  {
   "cell_type": "markdown",
   "metadata": {},
   "source": [
    "### write a function to find the maximum and minimum numbers from a sequence of numbers."
   ]
  },
  {
   "cell_type": "code",
   "execution_count": 3,
   "metadata": {},
   "outputs": [
    {
     "name": "stdout",
     "output_type": "stream",
     "text": [
      "9\n",
      "1\n"
     ]
    }
   ],
   "source": [
    "def mxmn(l1):\n",
    "    print(max(l1))\n",
    "    print(min(l1))\n",
    "mxmn(l1)"
   ]
  },
  {
   "cell_type": "markdown",
   "metadata": {},
   "source": [
    "### Write a Python function that takes two lists and returns True if they have at least one common member."
   ]
  },
  {
   "cell_type": "code",
   "execution_count": 4,
   "metadata": {},
   "outputs": [
    {
     "name": "stdout",
     "output_type": "stream",
     "text": [
      "True\n"
     ]
    }
   ],
   "source": [
    "def com(l1,l2):\n",
    "    if len(l1)<len(l2):\n",
    "        for x in range (0,len(l1)):\n",
    "            if l1[x] in l2:\n",
    "                print (True)\n",
    "                break\n",
    "            else :\n",
    "                print (False)\n",
    "                break\n",
    "    else :\n",
    "        for x in range (0,len(l2)):\n",
    "            if l2[x] in l1:\n",
    "                print (True)\n",
    "                break\n",
    "            else :\n",
    "                print (False)\n",
    "                break\n",
    "l1=[1,103,2]\n",
    "l2=[2,3,5]\n",
    "com(l1,l2)"
   ]
  },
  {
   "cell_type": "markdown",
   "metadata": {},
   "source": [
    "### Write a Python function to calculate the factorial of a number (a non-negative integer). The function accepts the number from the user"
   ]
  },
  {
   "cell_type": "code",
   "execution_count": 5,
   "metadata": {},
   "outputs": [
    {
     "name": "stdout",
     "output_type": "stream",
     "text": [
      "6\n"
     ]
    }
   ],
   "source": [
    "def fact_(x):\n",
    "    z=1\n",
    "    while x>0:\n",
    "        z*=x\n",
    "        x-=1\n",
    "       #4*3*2*1\n",
    "    print (z) \n",
    "fact_(3)"
   ]
  },
  {
   "cell_type": "markdown",
   "metadata": {},
   "source": [
    "### Write a Python function to check whether a number is in a given range.\n",
    "\n",
    "### The range is from 3 to 11\n"
   ]
  },
  {
   "cell_type": "code",
   "execution_count": 6,
   "metadata": {},
   "outputs": [
    {
     "name": "stdout",
     "output_type": "stream",
     "text": [
      "The number is in a given range\n"
     ]
    }
   ],
   "source": [
    "def ran(mini,maxi,x):\n",
    "    l1=[]\n",
    "    for y in range (mini,maxi+1):\n",
    "        l1.append(y)\n",
    "    if x in l1:\n",
    "        print(\"The number is in a given range\")\n",
    "    else:\n",
    "        print(\"The number is not in a given range\")\n",
    "ran(3,19,15)"
   ]
  },
  {
   "cell_type": "markdown",
   "metadata": {},
   "source": [
    "### Write a  program to create the multiplication table (from 1 to 10) of a number."
   ]
  },
  {
   "cell_type": "code",
   "execution_count": 7,
   "metadata": {},
   "outputs": [
    {
     "name": "stdout",
     "output_type": "stream",
     "text": [
      "The multiplication of 8 and 1 is 8\n",
      "The multiplication of 8 and 2 is 16\n",
      "The multiplication of 8 and 3 is 24\n",
      "The multiplication of 8 and 4 is 32\n",
      "The multiplication of 8 and 5 is 40\n",
      "The multiplication of 8 and 6 is 48\n",
      "The multiplication of 8 and 7 is 56\n",
      "The multiplication of 8 and 8 is 64\n",
      "The multiplication of 8 and 9 is 72\n",
      "The multiplication of 8 and 10 is 80\n"
     ]
    }
   ],
   "source": [
    "def mult_tab(x):\n",
    "    for y in range (1,11):\n",
    "        print(\"The multiplication of {} and {} is {}\".format(x,y,x*y))\n",
    "mult_tab(8)"
   ]
  },
  {
   "cell_type": "markdown",
   "metadata": {},
   "source": [
    "#### LESSER OF TWO EVENS: Write a function that returns the lesser of two given numbers *if* both numbers are even, but returns the greater if one or both numbers are odd\n",
    "    lesser_of_two_evens(2,4) --> 2\n",
    "    lesser_of_two_evens(2,5) --> 5"
   ]
  },
  {
   "cell_type": "code",
   "execution_count": 8,
   "metadata": {},
   "outputs": [
    {
     "name": "stdout",
     "output_type": "stream",
     "text": [
      "2\n",
      "5\n"
     ]
    }
   ],
   "source": [
    "def lesser_of_two_evens(x,y):\n",
    "    if x%2==0 and y%2==0:\n",
    "        pass\n",
    "        print(min(x,y))\n",
    "    else:\n",
    "        print(max(x,y))\n",
    "lesser_of_two_evens(2,4)\n",
    "lesser_of_two_evens(2,5)"
   ]
  },
  {
   "cell_type": "markdown",
   "metadata": {},
   "source": [
    "#### ANIMAL CRACKERS: Write a function takes a two-word string and returns True if both words begin with same letter\n",
    "    animal_crackers('Levelheaded Llama') --> True\n",
    "    animal_crackers('Crazy Kangaroo') --> False"
   ]
  },
  {
   "cell_type": "code",
   "execution_count": 9,
   "metadata": {},
   "outputs": [
    {
     "name": "stdout",
     "output_type": "stream",
     "text": [
      "True\n",
      "False\n"
     ]
    }
   ],
   "source": [
    "def ANIMAL_CRACKERS(x):\n",
    "    l1=x.split()\n",
    "    if l1[0][0]==l1[1][0]:\n",
    "        print(True)\n",
    "    else:\n",
    "        print(False)\n",
    "ANIMAL_CRACKERS('Levelheaded Llama')\n",
    "ANIMAL_CRACKERS('Crazy Kangaroo')"
   ]
  },
  {
   "cell_type": "markdown",
   "metadata": {},
   "source": [
    "#### MAKES TWENTY: Given two integers, return True if the sum of the integers is 20 *or* if one of the integers is 20. If not, return False\n",
    "\n",
    "    makes_twenty(20,10) --> True\n",
    "    makes_twenty(12,8) --> True\n",
    "    makes_twenty(2,3) --> False"
   ]
  },
  {
   "cell_type": "code",
   "execution_count": 16,
   "metadata": {},
   "outputs": [
    {
     "name": "stdout",
     "output_type": "stream",
     "text": [
      "True\n",
      "True\n",
      "False\n"
     ]
    }
   ],
   "source": [
    "def makes_twenty(x,y):\n",
    "    s=x+y\n",
    "    if x==20 or y==20:\n",
    "        print(True)\n",
    "    else:\n",
    "        if s==20:\n",
    "            print(True)\n",
    "        else:\n",
    "            print(False)\n",
    "makes_twenty(20,10)\n",
    "makes_twenty(12,8)\n",
    "makes_twenty(2,3)"
   ]
  },
  {
   "cell_type": "markdown",
   "metadata": {},
   "source": [
    "#### ALMOST THERE: Given an integer n, return True if n is within 10 of either 100 or 200\n",
    "\n",
    "    almost_there(90) --> True\n",
    "    almost_there(104) --> True\n",
    "    almost_there(150) --> False\n",
    "    almost_there(209) --> True\n",
    "    \n",
    "NOTE: `abs(num)` returns the absolute value of a number"
   ]
  },
  {
   "cell_type": "code",
   "execution_count": 10,
   "metadata": {},
   "outputs": [
    {
     "name": "stdout",
     "output_type": "stream",
     "text": [
      "True\n",
      "True\n",
      "False\n",
      "True\n"
     ]
    }
   ],
   "source": [
    "def ALMOST_THERE(x):\n",
    "    l1=[]\n",
    "    l2=[]\n",
    "    for s1 in range(90,111):\n",
    "        l1.append(s1)\n",
    "    for s2 in range(190,211):\n",
    "        l2.append(s2)\n",
    "    if x in l1 or x in l2:\n",
    "        print(True)\n",
    "    else:\n",
    "        print(False)\n",
    "\n",
    "ALMOST_THERE(90) \n",
    "ALMOST_THERE(104)\n",
    "ALMOST_THERE(150)\n",
    "ALMOST_THERE(209)"
   ]
  },
  {
   "cell_type": "markdown",
   "metadata": {},
   "source": [
    "#### BLACKJACK: Given three integers between 1 and 11, if their sum is less than or equal to 21, return their sum. If their sum exceeds 21 *and* there's an eleven, reduce the total sum by 10. Finally, if the sum  exceeds 21, return 'BUST'\n",
    "    blackjack(5,6,7) --> 18\n",
    "    blackjack(9,9,9) --> 'BUST'\n",
    "    blackjack(9,9,11) --> 19"
   ]
  },
  {
   "cell_type": "code",
   "execution_count": 11,
   "metadata": {},
   "outputs": [
    {
     "name": "stdout",
     "output_type": "stream",
     "text": [
      "18\n",
      "BUST\n",
      "19\n"
     ]
    }
   ],
   "source": [
    "def BLACKJACK(x,y,z):\n",
    "    s=x+y+z\n",
    "    if s<=21:\n",
    "        print(s)\n",
    "    else:\n",
    "        if x==11 or y==11 or z==11:\n",
    "            s-=10\n",
    "            if s>21:\n",
    "                print(\"BUST\")\n",
    "            else:\n",
    "                print(s)\n",
    "        else:\n",
    "            print(\"BUST\")\n",
    "BLACKJACK(5,6,7)\n",
    "BLACKJACK(9,9,9)\n",
    "BLACKJACK(9,9,11)"
   ]
  },
  {
   "cell_type": "code",
   "execution_count": null,
   "metadata": {},
   "outputs": [],
   "source": []
  }
 ],
 "metadata": {
  "kernelspec": {
   "display_name": "Python 3 (ipykernel)",
   "language": "python",
   "name": "python3"
  },
  "language_info": {
   "codemirror_mode": {
    "name": "ipython",
    "version": 3
   },
   "file_extension": ".py",
   "mimetype": "text/x-python",
   "name": "python",
   "nbconvert_exporter": "python",
   "pygments_lexer": "ipython3",
   "version": "3.9.12"
  }
 },
 "nbformat": 4,
 "nbformat_minor": 2
}
